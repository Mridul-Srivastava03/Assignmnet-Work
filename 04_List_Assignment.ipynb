{
  "nbformat": 4,
  "nbformat_minor": 0,
  "metadata": {
    "colab": {
      "provenance": []
    },
    "kernelspec": {
      "name": "python3",
      "display_name": "Python 3"
    },
    "language_info": {
      "name": "python"
    }
  },
  "cells": [
    {
      "cell_type": "markdown",
      "source": [
        "You are a Marvel fan and created a list of superheroes.\n",
        "\n",
        "​​​​​​​avengers  = [\"Iron Man\", \"Captain America\", \"Black Widow\", \"Hulk\", \"Thor\", \"Hawkeye\"]\n",
        "Using this list, do the following:"
      ],
      "metadata": {
        "id": "A4BuGU1J9TYP"
      }
    },
    {
      "cell_type": "markdown",
      "source": [
        "1. Calculate how many members are in the Avengers team?"
      ],
      "metadata": {
        "id": "rftB0YDZ9aEV"
      }
    },
    {
      "cell_type": "code",
      "execution_count": 10,
      "metadata": {
        "colab": {
          "base_uri": "https://localhost:8080/"
        },
        "id": "t9I-IcoB9M-B",
        "outputId": "68bdaa65-9156-43a1-e4b2-35a0ab31887f"
      },
      "outputs": [
        {
          "output_type": "execute_result",
          "data": {
            "text/plain": [
              "6"
            ]
          },
          "metadata": {},
          "execution_count": 10
        }
      ],
      "source": [
        "avengers = [\"Iron Man\", \"Captain America\", \"Black Widow\", \"Hulk\", \"Thor\", \"Hawkeye\"]\n",
        "len(avengers)"
      ]
    },
    {
      "cell_type": "markdown",
      "source": [
        "2. Iron Man made Spider-Man a new member of the Avengers, add him to your list."
      ],
      "metadata": {
        "id": "KJcGyW5J9qh0"
      }
    },
    {
      "cell_type": "code",
      "source": [
        "avengers.append(\"Spider-Man\")\n",
        "avengers"
      ],
      "metadata": {
        "colab": {
          "base_uri": "https://localhost:8080/"
        },
        "id": "J_CMVkAf9hpG",
        "outputId": "69ca985e-98bb-4cd6-e16c-979ba1626969"
      },
      "execution_count": 11,
      "outputs": [
        {
          "output_type": "execute_result",
          "data": {
            "text/plain": [
              "['Iron Man',\n",
              " 'Captain America',\n",
              " 'Black Widow',\n",
              " 'Hulk',\n",
              " 'Thor',\n",
              " 'Hawkeye',\n",
              " 'Spider-Man']"
            ]
          },
          "metadata": {},
          "execution_count": 11
        }
      ]
    },
    {
      "cell_type": "markdown",
      "source": [
        "3. Captain America is the leader of the Avengers, you need to add him before Iron Man, so remove him from the list and add him before Iron Man."
      ],
      "metadata": {
        "id": "agGFpucK972D"
      }
    },
    {
      "cell_type": "code",
      "source": [
        "leader = \"Captain America\"\n",
        "avengers.remove(leader)\n",
        "avengers.insert(0,leader)\n",
        "leader = avengers[0]\n",
        "avengers"
      ],
      "metadata": {
        "colab": {
          "base_uri": "https://localhost:8080/"
        },
        "id": "QCj-gej19xU2",
        "outputId": "a7e0049d-72b6-43c8-e468-4bb34c506512"
      },
      "execution_count": 13,
      "outputs": [
        {
          "output_type": "execute_result",
          "data": {
            "text/plain": [
              "['Captain America',\n",
              " 'Iron Man',\n",
              " 'Black Widow',\n",
              " 'Hulk',\n",
              " 'Thor',\n",
              " 'Hawkeye',\n",
              " 'Spider-Man']"
            ]
          },
          "metadata": {},
          "execution_count": 13
        }
      ]
    },
    {
      "cell_type": "markdown",
      "source": [
        "4. You don’t like Thor and Hulk together because they get angry easily and fight with each other. So you have to separate them from each other. To separate them, either move “Black Widow” or “Hawkeye” in between them."
      ],
      "metadata": {
        "id": "Ip8oIpsW-mhw"
      }
    },
    {
      "cell_type": "code",
      "source": [
        "avengers.remove(\"Black Widow\")\n",
        "avengers.insert(3, \"Black Widow\")\n",
        "avengers"
      ],
      "metadata": {
        "colab": {
          "base_uri": "https://localhost:8080/"
        },
        "id": "nbqD4bnW-bqo",
        "outputId": "8efbb8b9-1f06-416c-eb5d-32747695e0ec"
      },
      "execution_count": 14,
      "outputs": [
        {
          "output_type": "execute_result",
          "data": {
            "text/plain": [
              "['Captain America',\n",
              " 'Iron Man',\n",
              " 'Hulk',\n",
              " 'Black Widow',\n",
              " 'Thor',\n",
              " 'Hawkeye',\n",
              " 'Spider-Man']"
            ]
          },
          "metadata": {},
          "execution_count": 14
        }
      ]
    },
    {
      "cell_type": "markdown",
      "source": [
        "5. After Avengers: End Game the original six avengers are retired, now you need to remove them from your list and add new superheroes like Doctor Strange, Vision, Wanda, Kate Bishop, and Ant-Man."
      ],
      "metadata": {
        "id": "XILR2zVx_Veq"
      }
    },
    {
      "cell_type": "code",
      "source": [
        "avengers.clear()\n",
        "avengers.append(\"Doctor Strange\")\n",
        "avengers.append(\"Vision\")\n",
        "avengers.append(\"Wanda\")\n",
        "avengers.append(\"Kate Bishop\")\n",
        "avengers.append(\"Ant-Man\")\n",
        "avengers"
      ],
      "metadata": {
        "colab": {
          "base_uri": "https://localhost:8080/"
        },
        "id": "iGBVsO2H-1GG",
        "outputId": "f6c39441-0214-41e4-c946-568cfb87ed41"
      },
      "execution_count": 16,
      "outputs": [
        {
          "output_type": "execute_result",
          "data": {
            "text/plain": [
              "['Doctor Strange', 'Vision', 'Wanda', 'Kate Bishop', 'Ant-Man']"
            ]
          },
          "metadata": {},
          "execution_count": 16
        }
      ]
    },
    {
      "cell_type": "markdown",
      "source": [
        "6. As “Captain America” is also retired and now currently, no one is the leader, so sort the list in alphabetical order. Whoever will come at the 0th index will become the Leader. (BONUS: can you guess who will become the leader)"
      ],
      "metadata": {
        "id": "Nhb6Po3s_uRV"
      }
    },
    {
      "cell_type": "code",
      "source": [
        "#Ant-Man\n",
        "avengers.sort()\n",
        "avengers"
      ],
      "metadata": {
        "colab": {
          "base_uri": "https://localhost:8080/"
        },
        "id": "6oliTQLh_lVv",
        "outputId": "fcfa277f-7381-472f-9ff6-c125fe1ef5dd"
      },
      "execution_count": 19,
      "outputs": [
        {
          "output_type": "execute_result",
          "data": {
            "text/plain": [
              "['Ant-Man', 'Doctor Strange', 'Kate Bishop', 'Vision', 'Wanda']"
            ]
          },
          "metadata": {},
          "execution_count": 19
        }
      ]
    },
    {
      "cell_type": "code",
      "source": [
        "leader = avengers[0]\n",
        "leader"
      ],
      "metadata": {
        "colab": {
          "base_uri": "https://localhost:8080/",
          "height": 36
        },
        "id": "EWNGdqJW_2HY",
        "outputId": "d6765d51-d506-43dc-bd17-a4b3f85ab19c"
      },
      "execution_count": 20,
      "outputs": [
        {
          "output_type": "execute_result",
          "data": {
            "text/plain": [
              "'Ant-Man'"
            ],
            "application/vnd.google.colaboratory.intrinsic+json": {
              "type": "string"
            }
          },
          "metadata": {},
          "execution_count": 20
        }
      ]
    },
    {
      "cell_type": "code",
      "source": [],
      "metadata": {
        "id": "H1RnuU8MAnjb"
      },
      "execution_count": null,
      "outputs": []
    }
  ]
}