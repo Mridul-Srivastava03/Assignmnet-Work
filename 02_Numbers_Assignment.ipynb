{
  "nbformat": 4,
  "nbformat_minor": 0,
  "metadata": {
    "colab": {
      "provenance": []
    },
    "kernelspec": {
      "name": "python3",
      "display_name": "Python 3"
    },
    "language_info": {
      "name": "python"
    }
  },
  "cells": [
    {
      "cell_type": "markdown",
      "source": [
        "1. Remember the format() function we used in the last video?? Now pass 145 and ‘o’ in the function and see what it returns. Try to find out which representation it is."
      ],
      "metadata": {
        "id": "nrdWdh67-Rlp"
      }
    },
    {
      "cell_type": "code",
      "execution_count": 3,
      "metadata": {
        "colab": {
          "base_uri": "https://localhost:8080/",
          "height": 36
        },
        "id": "_YorgVCJ-QbQ",
        "outputId": "ac61fccb-8ece-4bf2-f355-028208b15fab"
      },
      "outputs": [
        {
          "output_type": "execute_result",
          "data": {
            "text/plain": [
              "'221'"
            ],
            "application/vnd.google.colaboratory.intrinsic+json": {
              "type": "string"
            }
          },
          "metadata": {},
          "execution_count": 3
        }
      ],
      "source": [
        "format(145, 'o')"
      ]
    },
    {
      "cell_type": "markdown",
      "source": [
        "2. There is a circular pond in a village. This pond has a radius of 84 meters. Can you find the area of the pond? (Bonus: If there is exactly 1.4 liter of water in a square meter, what is the total amount of water in the pond?)"
      ],
      "metadata": {
        "id": "iZfQzsWB-yqo"
      }
    },
    {
      "cell_type": "code",
      "source": [
        "radius = 84\n",
        "area = 3.14 * (radius ** 2)\n",
        "print(area)"
      ],
      "metadata": {
        "colab": {
          "base_uri": "https://localhost:8080/"
        },
        "id": "Fv3K_79K-aXT",
        "outputId": "a1591652-1c96-43bf-8307-894121d9b999"
      },
      "execution_count": 4,
      "outputs": [
        {
          "output_type": "stream",
          "name": "stdout",
          "text": [
            "22155.84\n"
          ]
        }
      ]
    },
    {
      "cell_type": "code",
      "source": [
        "water_in_area = 1.4\n",
        "water_in_pond = water_in_area * area\n",
        "print(water_in_pond)"
      ],
      "metadata": {
        "colab": {
          "base_uri": "https://localhost:8080/"
        },
        "id": "qJqrE8ds_Hkq",
        "outputId": "ebf8b0bc-1361-4523-d029-ad305bd5ac59"
      },
      "execution_count": 6,
      "outputs": [
        {
          "output_type": "stream",
          "name": "stdout",
          "text": [
            "31018.176\n"
          ]
        }
      ]
    }
  ]
}